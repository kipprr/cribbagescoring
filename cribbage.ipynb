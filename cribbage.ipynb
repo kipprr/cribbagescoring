{
 "cells": [
  {
   "cell_type": "markdown",
   "source": [
    "# Manipulating Cards"
   ],
   "metadata": {}
  },
  {
   "cell_type": "code",
   "execution_count": 7,
   "source": [
    "#cards are represented as integers from 0-52 with 0 being an Ace of suit 0 (the actual suits do not matter in Cribbage, however \n",
    "# some points do rely on suits matching) and 52 being a King of suit 3\n",
    "\n",
    "# given a card (integer), return the rank with 1 denoting Ace, 11 denoting Jack, 12 denoting Queen, 13 denoting King, and each other number denoting itself\n",
    "def rank(n):\n",
    "    return ((n)//4)+1\n",
    "\n",
    "# given a card (integer), return the suit from 0-3\n",
    "def suit(n):\n",
    "    return (n)%4\n",
    "\n",
    "# given a card (integer), return the value with Ace valued at 1, all face cards valued at 10, and every other card the same value as its rank\n",
    "def value(n):\n",
    "    if ((n)//4)+1 < 10:\n",
    "        return ((n)//4)+1\n",
    "    else:\n",
    "        return 10\n"
   ],
   "outputs": [],
   "metadata": {}
  },
  {
   "cell_type": "markdown",
   "source": [
    "# Scoring a Hand"
   ],
   "metadata": {}
  },
  {
   "cell_type": "code",
   "execution_count": 8,
   "source": [
    "#scoring rules from Wikipedia\n",
    "\n",
    "\n",
    "# flush: four points for a flush, where all four cards in the hand are of the same suit, with an additional point if the starter card is also of \n",
    "# that suit.\n",
    "def scoreFlush(handArr):\n",
    "    for card in handArr[2:]:\n",
    "        if suit(card) != suit(handArr[1]):\n",
    "            return 0\n",
    "    if suit(handArr[0]) == suit(handArr[1]):\n",
    "        return 5\n",
    "    else:\n",
    "        return 4\n",
    "\n",
    "# nob: one point for holding the Jack of the same suit as the starter card\n",
    "\n",
    "def nob(handArr):\n",
    "    for card in handArr[1:]:\n",
    "        if rank(card) == 11:\n",
    "            if suit(card) == suit(handArr[0]):\n",
    "                return True\n",
    "    else:\n",
    "        return False\n",
    "\n",
    "# fifteen: two points for each separate combination of two or more cards totalling exactly fifteen\n",
    "def scoreFifteens(handArr, quads, triples, pairs):\n",
    "    score = 0\n",
    "    if value(handArr[0]) + value(handArr[1]) + value(handArr[2]) + value(handArr[3]) + value(handArr[4]) == 15:\n",
    "        score += 2\n",
    "\n",
    "  \n",
    "    for a,b,c,d in quads:\n",
    "        if value(a) + value(b) + value(c) + value(d) == 15:\n",
    "            score += 2\n",
    "\n",
    "    for a,b,c in triples:\n",
    "        if value(a) + value(b) + value(c) == 15:\n",
    "            score += 2\n",
    "    \n",
    "    for a,b in pairs:\n",
    "        if value(a) + value(b) == 15:\n",
    "            score += 2\n",
    "            \n",
    "    return score\n",
    "\n",
    "# pairs: two points for a pair of cards of a kind, six points for three cards of a kind (known as a \"pair royal\", comprising three distinct pairs), \n",
    "# twelve points for four cards of a kind (a \"double pair royal\", comprising six distinct pairs)\n",
    "def scorePairs(pairs):\n",
    "    score = 0\n",
    "    for a,b in pairs:\n",
    "        if rank(a) == rank(b):\n",
    "            score += 2\n",
    "    return score\n",
    "\n",
    "# runs: three points for a run of three consecutive cards (regardless of suit), four points for a run of four, five points for a run of five\n",
    "\n",
    "def scoreRuns(handArr, quads, triples):\n",
    "    score = 0\n",
    "\n",
    "    handArr.sort()\n",
    "    if rank(handArr[0]) + 1 == rank(handArr[1]) and rank(handArr[1]) + 1 == rank(handArr[2]) and rank(handArr[2]) + 1 == rank(handArr[3]) and rank(handArr[3]) + 1 == rank(handArr[4]):\n",
    "        return 5\n",
    "   \n",
    "    for a,b,c,d in quads:\n",
    "        if rank(a) + 1 == rank(b) and rank(b) + 1 == rank(c) and rank(c) + 1 == rank(d):\n",
    "            score += 4\n",
    "    \n",
    "    if score > 0:\n",
    "        return score\n",
    "    \n",
    "    for a,b,c in triples:\n",
    "        if rank(a) + 1 == rank(b) and rank(b) + 1 == rank(c):\n",
    "            score += 3\n",
    "    return score\n",
    "\n"
   ],
   "outputs": [],
   "metadata": {}
  },
  {
   "cell_type": "code",
   "execution_count": 9,
   "source": [
    "\n",
    "def scoreHand(handArr):\n",
    "    handArr = list(handArr)\n",
    "    score = 0\n",
    "\n",
    "    # scoring flush\n",
    "    score += scoreFlush(handArr)\n",
    "    \n",
    "    # scoring nob\n",
    "    if nob(handArr):\n",
    "        score += 1\n",
    "   \n",
    "\n",
    "    #make pairs\n",
    "    pairs = []\n",
    "    alreadyused = []\n",
    "    for i in handArr:\n",
    "        for j in handArr:\n",
    "            if i != j and j not in alreadyused:\n",
    "                pairs.append((i,j))\n",
    "        alreadyused.append(i)\n",
    "   \n",
    "    #make triples\n",
    "    triples = []\n",
    "    alreadyusedk = []\n",
    "    for k in handArr:\n",
    "        for i,j in pairs:\n",
    "            if k not in [i,j] and i not in alreadyusedk and j not in alreadyusedk:\n",
    "                triple = tuple(sorted([k,i,j]))\n",
    "                triples.append(triple)\n",
    "        alreadyusedk.append(k)\n",
    "  \n",
    "    #make quads\n",
    "    quads = []\n",
    "    alreadyusedm = []\n",
    "    for m in handArr:\n",
    "        for i,j,k in triples:\n",
    "            if m not in [i,j,k] and i not in alreadyusedm and j not in alreadyusedm and k not in alreadyusedm:\n",
    "                quad = tuple(sorted([k,i,j,m]))\n",
    "                quads.append(quad)\n",
    "        alreadyusedm.append(m)\n",
    "\n",
    "    #score pairs\n",
    "    score += scorePairs(pairs)\n",
    "\n",
    "    #score runs\n",
    "    score += scoreRuns(handArr, quads, triples)\n",
    "             \n",
    "    #score fifteens\n",
    "    score += scoreFifteens(handArr, quads, triples, pairs)\n",
    "    \n",
    "    if score == 29:\n",
    "        print(\"This hand scores 29: \" + str(list(map(lambda x:rank(x),handArr))))\n",
    "    \n",
    "    return score"
   ],
   "outputs": [],
   "metadata": {}
  },
  {
   "cell_type": "markdown",
   "source": [
    "# Finding All Possible Scores in Cribbage"
   ],
   "metadata": {}
  },
  {
   "cell_type": "code",
   "execution_count": 10,
   "source": [
    "# generate every possible hand in Cribbage, included the turned up card, and calculate all possible scores\n",
    "def generateCribbageScores():\n",
    "    scores = {}\n",
    "    cards = list(range(52))\n",
    "    \n",
    "\n",
    "    #make pairs\n",
    "    pairs = {}\n",
    "    alreadyused = []\n",
    "    for i in cards:\n",
    "        for j in cards:\n",
    "            if i != j and j not in alreadyused:\n",
    "                pair = tuple(sorted([i,j]))\n",
    "                pairs[pair] = \"0\"\n",
    "        alreadyused.append(i)\n",
    "   \n",
    "    #make triples\n",
    "    triples = {}\n",
    "    alreadyusedk = []\n",
    "    for k in cards:\n",
    "        for i,j in pairs:\n",
    "            if k not in [i,j] and i not in alreadyusedk and j not in alreadyusedk:\n",
    "                triple = tuple(sorted([k,i,j]))\n",
    "                triples[triple] = \"0\"\n",
    "        alreadyusedk.append(k)\n",
    "  \n",
    "    #make quads\n",
    "    quads = {}\n",
    "    alreadyusedm = []\n",
    "    for m in cards:\n",
    "        for i,j,k in triples:\n",
    "            if m not in [i,j,k] and i not in alreadyusedm and j not in alreadyusedm and k not in alreadyusedm:\n",
    "                quad = tuple(sorted([k,i,j,m]))\n",
    "                quads[quad] = \"0\"\n",
    "        alreadyusedm.append(m)\n",
    "\n",
    "    #make hands\n",
    "    # the first card is the turned up card so the order matters\n",
    "    hands = {}\n",
    "    for n in cards:\n",
    "        for a,b,c,d in quads:\n",
    "            if n not in [a,b,c,d]:\n",
    "                hands[n,a,b,c,d] = \"0\"\n",
    "    \n",
    "    # score each hand\n",
    "    for hand in hands:\n",
    "        currScore = scoreHand(hand)\n",
    "        if currScore in scores:\n",
    "            scores[currScore] += 1\n",
    "        else:\n",
    "            scores[currScore] = 1\n",
    "\n",
    "    return scores"
   ],
   "outputs": [],
   "metadata": {}
  },
  {
   "cell_type": "markdown",
   "source": [
    "# Results"
   ],
   "metadata": {}
  },
  {
   "cell_type": "code",
   "execution_count": 11,
   "source": [
    "scores = generateCribbageScores()"
   ],
   "outputs": [
    {
     "output_type": "stream",
     "name": "stdout",
     "text": [
      "This hand scores 29: [5, 5, 5, 5, 11]\n",
      "This hand scores 29: [5, 5, 5, 5, 11]\n",
      "This hand scores 29: [5, 5, 5, 5, 11]\n",
      "This hand scores 29: [5, 5, 5, 5, 11]\n"
     ]
    }
   ],
   "metadata": {}
  },
  {
   "cell_type": "code",
   "execution_count": 12,
   "source": [
    "print(scores)\n",
    "print(sorted(scores))"
   ],
   "outputs": [
    {
     "output_type": "stream",
     "name": "stdout",
     "text": [
      "{12: 317340, 13: 19656, 8: 1137236, 15: 9168, 6: 1800268, 9: 361224, 10: 388740, 7: 751324, 14: 90100, 16: 58248, 4: 2855676, 2: 2813796, 5: 697508, 3: 505008, 11: 51680, 17: 11196, 20: 8068, 0: 1009008, 1: 99792, 24: 3680, 18: 2708, 21: 2496, 23: 356, 28: 76, 29: 4, 22: 444}\n",
      "[0, 1, 2, 3, 4, 5, 6, 7, 8, 9, 10, 11, 12, 13, 14, 15, 16, 17, 18, 20, 21, 22, 23, 24, 28, 29]\n"
     ]
    }
   ],
   "metadata": {}
  },
  {
   "cell_type": "code",
   "execution_count": null,
   "source": [],
   "outputs": [],
   "metadata": {}
  }
 ],
 "metadata": {
  "orig_nbformat": 4,
  "language_info": {
   "name": "python",
   "version": "3.8.8",
   "mimetype": "text/x-python",
   "codemirror_mode": {
    "name": "ipython",
    "version": 3
   },
   "pygments_lexer": "ipython3",
   "nbconvert_exporter": "python",
   "file_extension": ".py"
  },
  "kernelspec": {
   "name": "python3",
   "display_name": "Python 3.8.8 64-bit ('python3.8': conda)"
  },
  "interpreter": {
   "hash": "39e3e36d2cf5eca27e15daa54fe0ee6a5c9dc98f676d776f3af0e10d3852cb55"
  }
 },
 "nbformat": 4,
 "nbformat_minor": 2
}